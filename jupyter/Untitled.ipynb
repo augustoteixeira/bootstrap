{
 "cells": [
  {
   "cell_type": "code",
   "execution_count": 6,
   "id": "naked-foster",
   "metadata": {},
   "outputs": [],
   "source": [
    "import matplotlib.pyplot as plt\n",
    "import numpy as np"
   ]
  },
  {
   "cell_type": "code",
   "execution_count": 19,
   "id": "colonial-illinois",
   "metadata": {},
   "outputs": [],
   "source": [
    "p = np.array([0.062500,\n",
    "              0.031250,\n",
    "              0.015625,\n",
    "              0.007812,\n",
    "              0.003906,\n",
    "              0.001953,\n",
    "              0.000977,\n",
    "              0.000488])\n",
    "\n",
    "y = np.array([0.807748,\n",
    "              1.866399,\n",
    "              2.165975,\n",
    "              2.412607,\n",
    "              2.612411,\n",
    "              2.771573,\n",
    "              2.896227,\n",
    "              2.992806])\n",
    "\n",
    "sqrtp = np.sqrt(p)\n",
    "sqinv = np.divide(1, sqrtp)\n",
    "logsqrt = np.multiply(sqinv, y)"
   ]
  },
  {
   "cell_type": "code",
   "execution_count": 20,
   "id": "defensive-blanket",
   "metadata": {},
   "outputs": [
    {
     "data": {
      "image/png": "[encoded data removed]",
      "text/plain": [
       "<Figure size 432x288 with 1 Axes>"
      ]
     },
     "metadata": {
      "needs_background": "light"
     },
     "output_type": "display_data"
    }
   ],
   "source": [
    "plt.scatter(sqinv, logsqrt)\n",
    "plt.show()"
   ]
  },
  {
   "cell_type": "code",
   "execution_count": 26,
   "id": "waiting-pollution",
   "metadata": {},
   "outputs": [],
   "source": [
    "from sklearn.linear_model import LinearRegression\n",
    "\n",
    "reg = LinearRegression().fit(sqinv.reshape(-1, 1), logsqrt)"
   ]
  },
  {
   "cell_type": "code",
   "execution_count": 29,
   "id": "popular-oxygen",
   "metadata": {},
   "outputs": [
    {
     "name": "stdout",
     "output_type": "stream",
     "text": [
      "[3.17211479]\n",
      "-8.556047145954388\n"
     ]
    }
   ],
   "source": [
    "print(reg.coef_)\n",
    "print(reg.intercept_)"
   ]
  },
  {
   "cell_type": "code",
   "execution_count": 33,
   "id": "annual-syracuse",
   "metadata": {},
   "outputs": [
    {
     "data": {
      "text/plain": [
       "3.289868133696453"
      ]
     },
     "execution_count": 33,
     "metadata": {},
     "output_type": "execute_result"
    }
   ],
   "source": [
    "import math\n",
    "math.pi**2 / 3"
   ]
  },
  {
   "cell_type": "code",
   "execution_count": null,
   "id": "emotional-terrace",
   "metadata": {},
   "outputs": [],
   "source": []
  }
 ],
 "metadata": {
  "kernelspec": {
   "display_name": "Python 3",
   "language": "python",
   "name": "python3"
  },
  "language_info": {
   "codemirror_mode": {
    "name": "ipython",
    "version": 3
   },
   "file_extension": ".py",
   "mimetype": "text/x-python",
   "name": "python",
   "nbconvert_exporter": "python",
   "pygments_lexer": "ipython3",
   "version": "3.9.2"
  }
 },
 "nbformat": 4,
 "nbformat_minor": 5
}
