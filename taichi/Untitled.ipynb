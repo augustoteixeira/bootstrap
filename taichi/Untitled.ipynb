{
 "cells": [
  {
   "cell_type": "code",
   "execution_count": 1,
   "id": "thrown-compound",
   "metadata": {},
   "outputs": [],
   "source": [
    "from math import exp\n",
    "import math\n",
    "import numpy as np\n",
    "from sklearn.linear_model import LinearRegression\n",
    "from scipy.optimize import curve_fit\n",
    "import matplotlib.pyplot as plt\n",
    "import csv"
   ]
  },
  {
   "cell_type": "markdown",
   "id": "spectacular-royal",
   "metadata": {},
   "source": [
    "Open report file"
   ]
  },
  {
   "cell_type": "code",
   "execution_count": 2,
   "id": "regional-jewel",
   "metadata": {},
   "outputs": [
    {
     "name": "stdout",
     "output_type": "stream",
     "text": [
      "['2', ' 0.7882701610673704']\n",
      "['3', ' 0.8723639563142157']\n",
      "['4', ' 1.1143446061564282']\n",
      "['5', ' 1.4318156983740595']\n",
      "['6', ' 1.7588088484928857']\n",
      "['7', ' 2.0599962963352656']\n",
      "['8', ' 2.320269007781867']\n",
      "['9', ' 2.5297817417991024']\n",
      "['10', ' 2.7069103024179975']\n",
      "['11', ' 2.8462136488182512']\n",
      "['12', ' 2.9543544505877124']\n",
      "['13', ' 3.03796182744426']\n"
     ]
    }
   ],
   "source": [
    "with open('./report.csv', newline='') as csvfile:\n",
    "    reader = csv.reader(csvfile, delimiter=',', quotechar='|')\n",
    "    m_array = []\n",
    "    pls = []\n",
    "    for row in reader:\n",
    "        print(row)\n",
    "        m_array.append(int(row[0]))\n",
    "        pls.append(float(row[1]))"
   ]
  },
  {
   "cell_type": "code",
   "execution_count": null,
   "id": "undefined-upgrade",
   "metadata": {},
   "outputs": [],
   "source": []
  }
 ],
 "metadata": {
  "kernelspec": {
   "display_name": "Python 3",
   "language": "python",
   "name": "python3"
  },
  "language_info": {
   "codemirror_mode": {
    "name": "ipython",
    "version": 3
   },
   "file_extension": ".py",
   "mimetype": "text/x-python",
   "name": "python",
   "nbconvert_exporter": "python",
   "pygments_lexer": "ipython3",
   "version": "3.9.2"
  }
 },
 "nbformat": 4,
 "nbformat_minor": 5
}
