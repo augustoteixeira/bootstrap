{
 "cells": [
  {
   "cell_type": "code",
   "execution_count": 2,
   "id": "temporal-removal",
   "metadata": {},
   "outputs": [],
   "source": [
    "import numpy as np\n",
    "from sklearn.linear_model import LinearRegression\n",
    "import matplotlib.pyplot as plt"
   ]
  },
  {
   "cell_type": "code",
   "execution_count": 3,
   "id": "exterior-strap",
   "metadata": {},
   "outputs": [],
   "source": [
    "# based on main normalized double\n",
    "\n",
    "lp = np.array([8.317766,\n",
    "               9.010913,\n",
    "               9.704061,\n",
    "               10.397207,\n",
    "               11.090355])\n",
    "\n",
    "pls = np.array([3.090081,\n",
    "                3.140407,\n",
    "                3.178460,\n",
    "                3.207089,\n",
    "                3.228533])"
   ]
  },
  {
   "cell_type": "code",
   "execution_count": 4,
   "id": "compressed-iceland",
   "metadata": {},
   "outputs": [
    {
     "name": "stdout",
     "output_type": "stream",
     "text": [
      "[2.44140666e-04 1.22070355e-04 6.10351274e-05 3.05175997e-05\n",
      " 1.52587874e-05]\n"
     ]
    }
   ],
   "source": [
    "p = np.exp(-lp)\n",
    "print(p)"
   ]
  },
  {
   "cell_type": "code",
   "execution_count": 5,
   "id": "modified-antique",
   "metadata": {},
   "outputs": [
    {
     "name": "stdout",
     "output_type": "stream",
     "text": [
      "[ 63.99999466  90.50965228 128.00003022 181.01927187 256.00001421]\n"
     ]
    }
   ],
   "source": [
    "rps = np.divide(pls, np.sqrt(p))\n",
    "rpinv = np.divide(1, np.sqrt(p))\n",
    "print(rpinv)"
   ]
  },
  {
   "cell_type": "code",
   "execution_count": 6,
   "id": "promising-general",
   "metadata": {},
   "outputs": [
    {
     "data": {
      "image/png": "[encoded data removed]",
      "text/plain": [
       "<Figure size 432x288 with 1 Axes>"
      ]
     },
     "metadata": {
      "needs_background": "light"
     },
     "output_type": "display_data"
    }
   ],
   "source": [
    "plt.scatter(rpinv, rps)\n",
    "\n",
    "x0 = 0\n",
    "y0 = 0\n",
    "x1 = 90.50965228\n",
    "y1 = 3.072641 * x1\n",
    "plt.plot([x0, x1], [y0, y1])\n",
    "plt.show()"
   ]
  },
  {
   "cell_type": "code",
   "execution_count": 9,
   "id": "julian-rehabilitation",
   "metadata": {},
   "outputs": [
    {
     "name": "stdout",
     "output_type": "stream",
     "text": [
      "Coef =  [3.27512904]\n",
      "Inte =  -12.131100813937167\n"
     ]
    },
    {
     "data": {
      "image/png": "[encoded data removed]",
      "text/plain": [
       "<Figure size 432x288 with 1 Axes>"
      ]
     },
     "metadata": {
      "needs_background": "light"
     },
     "output_type": "display_data"
    }
   ],
   "source": [
    "reg = LinearRegression().fit(rpinv.reshape(-1,1), rps)\n",
    "print(\"Coef = \", reg.coef_)\n",
    "print(\"Inte = \", reg.intercept_)\n",
    "x0 = 0\n",
    "y0 = reg.intercept_\n",
    "x1 = 280\n",
    "y1 = reg.coef_[0] * x1 + reg.intercept_\n",
    "plt.scatter(rpinv, rps)\n",
    "plt.plot([x0, x1], [y0, y1], color=\"red\")\n",
    "plt.show()"
   ]
  },
  {
   "cell_type": "code",
   "execution_count": null,
   "id": "victorian-franklin",
   "metadata": {},
   "outputs": [],
   "source": []
  }
 ],
 "metadata": {
  "kernelspec": {
   "display_name": "Python 3",
   "language": "python",
   "name": "python3"
  },
  "language_info": {
   "codemirror_mode": {
    "name": "ipython",
    "version": 3
   },
   "file_extension": ".py",
   "mimetype": "text/x-python",
   "name": "python",
   "nbconvert_exporter": "python",
   "pygments_lexer": "ipython3",
   "version": "3.9.2"
  }
 },
 "nbformat": 4,
 "nbformat_minor": 5
}
