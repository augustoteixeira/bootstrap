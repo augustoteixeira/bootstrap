{
 "cells": [
  {
   "cell_type": "code",
   "execution_count": 1,
   "id": "temporal-removal",
   "metadata": {},
   "outputs": [],
   "source": [
    "import numpy as np\n",
    "from sklearn.linear_model import LinearRegression\n",
    "import matplotlib.pyplot as plt"
   ]
  },
  {
   "cell_type": "code",
   "execution_count": 2,
   "id": "exterior-strap",
   "metadata": {},
   "outputs": [],
   "source": [
    "# based on main normalized double\n",
    "\n",
    "lp = np.array([4.158883,\n",
    "               4.852030,\n",
    "               5.545177,\n",
    "               6.238325,\n",
    "               6.931472,\n",
    "               7.624619,\n",
    "               8.317766,\n",
    "               9.010913])\n",
    "\n",
    "pls = np.array([2.275249,\n",
    "                2.501039,\n",
    "                2.682406,\n",
    "                2.825711,\n",
    "                2.937531,\n",
    "                3.023905,\n",
    "                3.090060,\n",
    "                3.072641])"
   ]
  },
  {
   "cell_type": "code",
   "execution_count": 3,
   "id": "compressed-iceland",
   "metadata": {},
   "outputs": [
    {
     "name": "stdout",
     "output_type": "stream",
     "text": [
      "[0.015625   0.0078125  0.00390625 0.00195312 0.00097656 0.00048828\n",
      " 0.00024414 0.00012207]\n"
     ]
    }
   ],
   "source": [
    "p = np.exp(-lp)\n",
    "print(p)"
   ]
  },
  {
   "cell_type": "code",
   "execution_count": 4,
   "id": "modified-antique",
   "metadata": {},
   "outputs": [
    {
     "name": "stdout",
     "output_type": "stream",
     "text": [
      "[ 7.99999967 11.31370701 15.99999644 22.62742124 32.00000311 45.25483431\n",
      " 63.99999466 90.50965228]\n"
     ]
    }
   ],
   "source": [
    "rps = np.divide(pls, np.sqrt(p))\n",
    "rpinv = np.divide(1, np.sqrt(p))\n",
    "print(rpinv)"
   ]
  },
  {
   "cell_type": "code",
   "execution_count": 5,
   "id": "promising-general",
   "metadata": {},
   "outputs": [
    {
     "data": {
      "image/png": "[encoded data removed]",
      "text/plain": [
       "<Figure size 432x288 with 1 Axes>"
      ]
     },
     "metadata": {
      "needs_background": "light"
     },
     "output_type": "display_data"
    }
   ],
   "source": [
    "plt.scatter(rpinv, rps)\n",
    "\n",
    "x0 = 0\n",
    "y0 = 0\n",
    "x1 = 90.50965228\n",
    "y1 = 3.072641 * x1\n",
    "plt.plot([x0, x1], [y0, y1])\n",
    "plt.show()"
   ]
  },
  {
   "cell_type": "code",
   "execution_count": 6,
   "id": "julian-rehabilitation",
   "metadata": {},
   "outputs": [
    {
     "name": "stdout",
     "output_type": "stream",
     "text": [
      "Coef =  [3.17083671]\n",
      "Inte =  -7.317414270372382\n"
     ]
    },
    {
     "data": {
      "image/png": "[encoded data removed]",
      "text/plain": [
       "<Figure size 432x288 with 1 Axes>"
      ]
     },
     "metadata": {
      "needs_background": "light"
     },
     "output_type": "display_data"
    }
   ],
   "source": [
    "reg = LinearRegression().fit(rpinv.reshape(-1,1), rps)\n",
    "print(\"Coef = \", reg.coef_)\n",
    "print(\"Inte = \", reg.intercept_)\n",
    "x0 = 0\n",
    "y0 = reg.intercept_\n",
    "x1 = 90.50965228\n",
    "y1 = reg.coef_[0] * x1 + reg.intercept_\n",
    "plt.scatter(rpinv, rps)\n",
    "plt.plot([x0, x1], [y0, y1], color=\"red\")\n",
    "plt.show()"
   ]
  },
  {
   "cell_type": "code",
   "execution_count": null,
   "id": "victorian-franklin",
   "metadata": {},
   "outputs": [],
   "source": []
  }
 ],
 "metadata": {
  "kernelspec": {
   "display_name": "Python 3",
   "language": "python",
   "name": "python3"
  },
  "language_info": {
   "codemirror_mode": {
    "name": "ipython",
    "version": 3
   },
   "file_extension": ".py",
   "mimetype": "text/x-python",
   "name": "python",
   "nbconvert_exporter": "python",
   "pygments_lexer": "ipython3",
   "version": "3.9.2"
  }
 },
 "nbformat": 4,
 "nbformat_minor": 5
}
