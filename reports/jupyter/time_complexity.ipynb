{
 "cells": [
  {
   "cell_type": "code",
   "execution_count": 6,
   "id": "every-nylon",
   "metadata": {},
   "outputs": [],
   "source": [
    "import numpy as np\n",
    "from sklearn.linear_model import LinearRegression\n",
    "import matplotlib.pyplot as plt"
   ]
  },
  {
   "cell_type": "code",
   "execution_count": 9,
   "id": "developmental-painting",
   "metadata": {},
   "outputs": [],
   "source": [
    "m = np.array([2, 3, 4, 5, 6, 7, 8, 9, 10, 11, 12])\n",
    "p = np.array([0.000041,\n",
    "              0.000069,\n",
    "              0.000207,\n",
    "              0.001126,\n",
    "              0.006048,\n",
    "              0.033309,\n",
    "              0.178471,\n",
    "              1.022673,\n",
    "              5.950362,\n",
    "              31.811768,\n",
    "              158.346771])"
   ]
  },
  {
   "cell_type": "code",
   "execution_count": 16,
   "id": "dietary-commons",
   "metadata": {},
   "outputs": [],
   "source": [
    "l = np.log2(p)"
   ]
  },
  {
   "cell_type": "code",
   "execution_count": 17,
   "id": "thick-majority",
   "metadata": {},
   "outputs": [
    {
     "data": {
      "image/png": "[encoded data removed]",
      "text/plain": [
       "<Figure size 432x288 with 1 Axes>"
      ]
     },
     "metadata": {
      "needs_background": "light"
     },
     "output_type": "display_data"
    }
   ],
   "source": [
    "plt.scatter(m, l)\n",
    "plt.show()"
   ]
  },
  {
   "cell_type": "code",
   "execution_count": 18,
   "id": "acting-panic",
   "metadata": {},
   "outputs": [],
   "source": [
    "reg = LinearRegression().fit(m.reshape(-1,1), l)"
   ]
  },
  {
   "cell_type": "code",
   "execution_count": 19,
   "id": "hawaiian-circle",
   "metadata": {},
   "outputs": [
    {
     "name": "stdout",
     "output_type": "stream",
     "text": [
      "Coef =  [2.30575492]\n",
      "Inte =  -20.712054818187607\n"
     ]
    }
   ],
   "source": [
    "print(\"Coef = \", reg.coef_)\n",
    "print(\"Inte = \", reg.intercept_)"
   ]
  },
  {
   "cell_type": "code",
   "execution_count": null,
   "id": "arctic-tamil",
   "metadata": {},
   "outputs": [],
   "source": []
  }
 ],
 "metadata": {
  "kernelspec": {
   "display_name": "Python 3",
   "language": "python",
   "name": "python3"
  },
  "language_info": {
   "codemirror_mode": {
    "name": "ipython",
    "version": 3
   },
   "file_extension": ".py",
   "mimetype": "text/x-python",
   "name": "python",
   "nbconvert_exporter": "python",
   "pygments_lexer": "ipython3",
   "version": "3.9.2"
  }
 },
 "nbformat": 4,
 "nbformat_minor": 5
}
